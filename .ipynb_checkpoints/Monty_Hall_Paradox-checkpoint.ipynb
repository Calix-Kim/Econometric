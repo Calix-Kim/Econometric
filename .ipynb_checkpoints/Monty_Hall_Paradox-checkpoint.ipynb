{
 "cells": [
  {
   "cell_type": "code",
   "execution_count": 1,
   "id": "06f96c39-6135-4247-b1b5-1f24db697f25",
   "metadata": {},
   "outputs": [],
   "source": [
    "import numpy as np"
   ]
  },
  {
   "cell_type": "code",
   "execution_count": 2,
   "id": "6fb29b12-1d33-450f-959d-39ecf3de07fb",
   "metadata": {},
   "outputs": [],
   "source": [
    "def MH_Paradox(door_num, simul_num):\n",
    "    \n",
    "    stay_res = np.zeros(simul_num)\n",
    "    switch_res = np.zeros(simul_num)\n",
    "    \n",
    "    for i in range(simul_num):\n",
    "            temp = np.random.rand(door_num)\n",
    "            car_loc = (temp == max(temp))\n",
    "\n",
    "            temp = np.random.rand(door_num)\n",
    "            init_choice = (temp == max(temp))\n",
    "\n",
    "            if sum(car_loc * init_choice):\n",
    "                doors_candidate = np.ones(door_num) - car_loc\n",
    "                temp = doors_candidate * np.random.rand(door_num)\n",
    "            else:\n",
    "                doors_candidate = np.ones(door_num) - car_loc - init_choice\n",
    "\n",
    "            # if stay\n",
    "            final_choice = init_choice\n",
    "            stay_res[i] = sum(final_choice * car_loc)\n",
    "\n",
    "            # if switch\n",
    "            final_choice = np.ones(door_num) - init_choice - doors_candidate\n",
    "            switch_res[i] = sum(final_choice * car_loc)\n",
    "    \n",
    "    winning_rate_stay = sum(stay_res) / simul_num\n",
    "    winning_rate_switch = sum(switch_res) / simul_num\n",
    "    \n",
    "    print(\"Winning Rate - Stay strategy : \" , winning_rate_stay)\n",
    "    print(\"Winning Rate - Switch strategy : \" , winning_rate_switch)"
   ]
  },
  {
   "cell_type": "code",
   "execution_count": 3,
   "id": "bb60de82-a2a0-440c-b22b-7f54650e6176",
   "metadata": {},
   "outputs": [
    {
     "name": "stdout",
     "output_type": "stream",
     "text": [
      "Winning Rate - Stay strategy :  0.3355\n",
      "Winning Rate - Switch strategy :  0.6645\n"
     ]
    }
   ],
   "source": [
    "MH_Paradox(3, 10000)"
   ]
  },
  {
   "cell_type": "code",
   "execution_count": 5,
   "id": "73c2f399-bd32-41d7-a186-295da3e1e9d4",
   "metadata": {},
   "outputs": [
    {
     "name": "stdout",
     "output_type": "stream",
     "text": [
      "Winning Rate - Stay strategy :  0.0012\n",
      "Winning Rate - Switch strategy :  0.9988\n"
     ]
    }
   ],
   "source": [
    "MH_Paradox(1000, 10000)"
   ]
  },
  {
   "cell_type": "code",
   "execution_count": null,
   "id": "1119222b-b3be-4455-a4b4-0f5edc087ea3",
   "metadata": {},
   "outputs": [],
   "source": []
  }
 ],
 "metadata": {
  "kernelspec": {
   "display_name": "Python 3",
   "language": "python",
   "name": "python3"
  },
  "language_info": {
   "codemirror_mode": {
    "name": "ipython",
    "version": 3
   },
   "file_extension": ".py",
   "mimetype": "text/x-python",
   "name": "python",
   "nbconvert_exporter": "python",
   "pygments_lexer": "ipython3",
   "version": "3.8.8"
  }
 },
 "nbformat": 4,
 "nbformat_minor": 5
}
