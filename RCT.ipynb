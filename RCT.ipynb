{
 "cells": [
  {
   "cell_type": "code",
   "execution_count": 1,
   "metadata": {},
   "outputs": [],
   "source": [
    "import numpy as np\n",
    "import pandas as pd"
   ]
  },
  {
   "cell_type": "markdown",
   "metadata": {},
   "source": [
    "# Efficacy Test"
   ]
  },
  {
   "cell_type": "code",
   "execution_count": 2,
   "metadata": {
    "scrolled": true
   },
   "outputs": [
    {
     "name": "stdout",
     "output_type": "stream",
     "text": [
      "Beta (the value getting from least square method):  -0.09062586032248597\n",
      "Beta (the value getting from calculation directly):  -0.09062586032248535\n",
      "T-stat :  -24.982185711016047\n"
     ]
    }
   ],
   "source": [
    "# Data Loading\n",
    "fakeData_arr = pd.read_excel('RCT_fakeData.xlsx').to_numpy()\n",
    "\n",
    "y = fakeData_arr[:, 2]\n",
    "X = np.concatenate((np.ones((y.shape[0], 1)), fakeData_arr[:, 1].reshape(-1, 1)), axis=1)\n",
    "coeff = np.linalg.lstsq(X, y, rcond=None)[0]\n",
    "residual = y - np.dot(X, coeff)\n",
    "\n",
    "# comparison of results\n",
    "print(\"Beta (the value getting from least square method): \", coeff[1])   # Beta\n",
    "t_grp_outcome = np.mean(fakeData_arr[fakeData_arr[:, 1] == 1][:, 2]) # Treatment group outcome\n",
    "c_grp_outcome = np.mean(fakeData_arr[fakeData_arr[:, 1] == 0][:, 2]) # Control group outcome\n",
    "print( \"Beta (the value getting from calculation directly): \", t_grp_outcome - c_grp_outcome ) # Beta\n",
    "\n",
    "N_treated = len(fakeData_arr[fakeData_arr[:, 1] == 1])\n",
    "N = len(fakeData_arr[:, 1])\n",
    "N_controlled = N - N_treated\n",
    "\n",
    "tStat = np.sqrt(N) * coeff[1] / np.sqrt( (N/N_treated + N/N_controlled) * np.var(residual, ddof=1) )\n",
    "print(\"T-stat : \", tStat)"
   ]
  },
  {
   "cell_type": "markdown",
   "metadata": {},
   "source": [
    "# Check the result with OLS Package"
   ]
  },
  {
   "cell_type": "code",
   "execution_count": 3,
   "metadata": {},
   "outputs": [],
   "source": [
    "import statsmodels.api as sm\n",
    "fakeData_df = pd.read_excel('RCT_fakeData.xlsx')"
   ]
  },
  {
   "cell_type": "code",
   "execution_count": 4,
   "metadata": {},
   "outputs": [],
   "source": [
    "X0 = fakeData_df['vaccineTreatment']\n",
    "X = sm.add_constant(X0)\n",
    "Y = fakeData_df['CoronaPositive']"
   ]
  },
  {
   "cell_type": "code",
   "execution_count": 5,
   "metadata": {},
   "outputs": [
    {
     "data": {
      "text/html": [
       "<table class=\"simpletable\">\n",
       "<caption>OLS Regression Results</caption>\n",
       "<tr>\n",
       "  <th>Dep. Variable:</th>     <td>CoronaPositive</td>  <th>  R-squared:         </th> <td>   0.020</td> \n",
       "</tr>\n",
       "<tr>\n",
       "  <th>Model:</th>                   <td>OLS</td>       <th>  Adj. R-squared:    </th> <td>   0.020</td> \n",
       "</tr>\n",
       "<tr>\n",
       "  <th>Method:</th>             <td>Least Squares</td>  <th>  F-statistic:       </th> <td>   624.1</td> \n",
       "</tr>\n",
       "<tr>\n",
       "  <th>Date:</th>             <td>Sun, 03 Oct 2021</td> <th>  Prob (F-statistic):</th> <td>2.40e-136</td>\n",
       "</tr>\n",
       "<tr>\n",
       "  <th>Time:</th>                 <td>18:11:20</td>     <th>  Log-Likelihood:    </th> <td> -5215.9</td> \n",
       "</tr>\n",
       "<tr>\n",
       "  <th>No. Observations:</th>      <td> 30000</td>      <th>  AIC:               </th> <td>1.044e+04</td>\n",
       "</tr>\n",
       "<tr>\n",
       "  <th>Df Residuals:</th>          <td> 29998</td>      <th>  BIC:               </th> <td>1.045e+04</td>\n",
       "</tr>\n",
       "<tr>\n",
       "  <th>Df Model:</th>              <td>     1</td>      <th>                     </th>     <td> </td>    \n",
       "</tr>\n",
       "<tr>\n",
       "  <th>Covariance Type:</th>      <td>nonrobust</td>    <th>                     </th>     <td> </td>    \n",
       "</tr>\n",
       "</table>\n",
       "<table class=\"simpletable\">\n",
       "<tr>\n",
       "          <td></td>            <th>coef</th>     <th>std err</th>      <th>t</th>      <th>P>|t|</th>  <th>[0.025</th>    <th>0.975]</th>  \n",
       "</tr>\n",
       "<tr>\n",
       "  <th>const</th>            <td>    0.1205</td> <td>    0.002</td> <td>   60.658</td> <td> 0.000</td> <td>    0.117</td> <td>    0.124</td>\n",
       "</tr>\n",
       "<tr>\n",
       "  <th>vaccineTreatment</th> <td>   -0.0906</td> <td>    0.004</td> <td>  -24.982</td> <td> 0.000</td> <td>   -0.098</td> <td>   -0.084</td>\n",
       "</tr>\n",
       "</table>\n",
       "<table class=\"simpletable\">\n",
       "<tr>\n",
       "  <th>Omnibus:</th>       <td>15742.167</td> <th>  Durbin-Watson:     </th> <td>   1.998</td> \n",
       "</tr>\n",
       "<tr>\n",
       "  <th>Prob(Omnibus):</th>  <td> 0.000</td>   <th>  Jarque-Bera (JB):  </th> <td>74589.322</td>\n",
       "</tr>\n",
       "<tr>\n",
       "  <th>Skew:</th>           <td> 2.702</td>   <th>  Prob(JB):          </th> <td>    0.00</td> \n",
       "</tr>\n",
       "<tr>\n",
       "  <th>Kurtosis:</th>       <td> 8.520</td>   <th>  Cond. No.          </th> <td>    2.42</td> \n",
       "</tr>\n",
       "</table><br/><br/>Notes:<br/>[1] Standard Errors assume that the covariance matrix of the errors is correctly specified."
      ],
      "text/plain": [
       "<class 'statsmodels.iolib.summary.Summary'>\n",
       "\"\"\"\n",
       "                            OLS Regression Results                            \n",
       "==============================================================================\n",
       "Dep. Variable:         CoronaPositive   R-squared:                       0.020\n",
       "Model:                            OLS   Adj. R-squared:                  0.020\n",
       "Method:                 Least Squares   F-statistic:                     624.1\n",
       "Date:                Sun, 03 Oct 2021   Prob (F-statistic):          2.40e-136\n",
       "Time:                        18:11:20   Log-Likelihood:                -5215.9\n",
       "No. Observations:               30000   AIC:                         1.044e+04\n",
       "Df Residuals:                   29998   BIC:                         1.045e+04\n",
       "Df Model:                           1                                         \n",
       "Covariance Type:            nonrobust                                         \n",
       "====================================================================================\n",
       "                       coef    std err          t      P>|t|      [0.025      0.975]\n",
       "------------------------------------------------------------------------------------\n",
       "const                0.1205      0.002     60.658      0.000       0.117       0.124\n",
       "vaccineTreatment    -0.0906      0.004    -24.982      0.000      -0.098      -0.084\n",
       "==============================================================================\n",
       "Omnibus:                    15742.167   Durbin-Watson:                   1.998\n",
       "Prob(Omnibus):                  0.000   Jarque-Bera (JB):            74589.322\n",
       "Skew:                           2.702   Prob(JB):                         0.00\n",
       "Kurtosis:                       8.520   Cond. No.                         2.42\n",
       "==============================================================================\n",
       "\n",
       "Notes:\n",
       "[1] Standard Errors assume that the covariance matrix of the errors is correctly specified.\n",
       "\"\"\""
      ]
     },
     "execution_count": 5,
     "metadata": {},
     "output_type": "execute_result"
    }
   ],
   "source": [
    "model = sm.OLS(Y, X)\n",
    "results = model.fit()\n",
    "results.summary()"
   ]
  },
  {
   "cell_type": "code",
   "execution_count": null,
   "metadata": {},
   "outputs": [],
   "source": []
  }
 ],
 "metadata": {
  "kernelspec": {
   "display_name": "Python 3",
   "language": "python",
   "name": "python3"
  },
  "language_info": {
   "codemirror_mode": {
    "name": "ipython",
    "version": 3
   },
   "file_extension": ".py",
   "mimetype": "text/x-python",
   "name": "python",
   "nbconvert_exporter": "python",
   "pygments_lexer": "ipython3",
   "version": "3.8.8"
  }
 },
 "nbformat": 4,
 "nbformat_minor": 4
}
